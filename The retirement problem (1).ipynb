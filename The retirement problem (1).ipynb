{
 "cells": [
  {
   "cell_type": "markdown",
   "id": "027646a7-25c9-494b-ae53-1e04e8ac1afe",
   "metadata": {},
   "source": [
    "# Inputs"
   ]
  },
  {
   "cell_type": "code",
   "execution_count": 71,
   "id": "62bdb3a0-8351-403d-9a40-714d34bb4299",
   "metadata": {},
   "outputs": [],
   "source": [
    "salary = 60000\n",
    "savings_rate = 0.25\n",
    "investment_rate = 0.05\n",
    "desired_cash = 1500000"
   ]
  },
  {
   "cell_type": "markdown",
   "id": "c3cc1d77-8545-4027-a27c-9fcc2f0dea21",
   "metadata": {},
   "source": [
    "# Determining Cash Saved"
   ]
  },
  {
   "cell_type": "code",
   "execution_count": 73,
   "id": "0bc4d5a9-4708-4b0b-a292-fad0c4a2bb55",
   "metadata": {},
   "outputs": [
    {
     "data": {
      "text/plain": [
       "15000.0"
      ]
     },
     "execution_count": 73,
     "metadata": {},
     "output_type": "execute_result"
    }
   ],
   "source": [
    "annual_cash = salary * savings_rate\n",
    "annual_cash"
   ]
  },
  {
   "cell_type": "markdown",
   "id": "a320db53-36d7-434a-8dc9-c6168ec7371b",
   "metadata": {},
   "source": [
    "# Years to Retirement"
   ]
  },
  {
   "cell_type": "code",
   "execution_count": 75,
   "id": "8698d4f7-f8a0-4e06-9a16-8a1a0996f626",
   "metadata": {},
   "outputs": [],
   "source": [
    "import numpy_financial as np"
   ]
  },
  {
   "cell_type": "code",
   "execution_count": 76,
   "id": "99c34990-2662-41a0-95f5-f700b85cd58e",
   "metadata": {},
   "outputs": [],
   "source": [
    "years_to_retirement = np.nper(investment_rate , -annual_cash , 0 , desired_cash )"
   ]
  },
  {
   "cell_type": "code",
   "execution_count": 77,
   "id": "79ff6785-a010-4ec6-a914-76f1cc373e87",
   "metadata": {},
   "outputs": [
    {
     "name": "stdout",
     "output_type": "stream",
     "text": [
      "Martha has  36.7 years to retirement\n"
     ]
    }
   ],
   "source": [
    "print(f\"Martha has {years_to_retirement: .1f} years to retirement\")"
   ]
  },
  {
   "cell_type": "code",
   "execution_count": null,
   "id": "39161211-88d2-40a8-82e9-d62112006c99",
   "metadata": {},
   "outputs": [],
   "source": []
  },
  {
   "cell_type": "markdown",
   "id": "90e107ad-2581-4188-999c-628b3553dfb4",
   "metadata": {},
   "source": [
    "# Multiple Interest Rates"
   ]
  },
  {
   "cell_type": "code",
   "execution_count": 78,
   "id": "9f8a15cb-473b-43fc-86b5-2b5915210679",
   "metadata": {},
   "outputs": [],
   "source": [
    "investment_rates = [0.05 , 0.06 ,0.07]"
   ]
  },
  {
   "cell_type": "code",
   "execution_count": 112,
   "id": "089717c2-e435-434f-a6c3-1011a8947d2e",
   "metadata": {},
   "outputs": [
    {
     "name": "stdout",
     "output_type": "stream",
     "text": [
      "Martha has  36.7 years to retirement if she earns a 5% return.\n",
      "Martha has  33.4 years to retirement if she earns a 6% return.\n",
      "Martha has  30.7 years to retirement if she earns a 7% return.\n"
     ]
    }
   ],
   "source": [
    "for i_rate in investment_rates:\n",
    "    years_to_retirement = np.nper(i_rate , - annual_cash , 0 , desired_cash )\n",
    "    print(f\"Martha has {years_to_retirement: .1f} years to retirement if she earns a {i_rate:.0%} return.\")"
   ]
  },
  {
   "cell_type": "code",
   "execution_count": null,
   "id": "a4602506-d6b1-4a9d-bcb8-1e2cd0d0ac5a",
   "metadata": {},
   "outputs": [],
   "source": []
  },
  {
   "cell_type": "markdown",
   "id": "5dac3b4d-0d63-4185-bd7f-1d3b1f3c8dc1",
   "metadata": {},
   "source": [
    "# Multiple Interest and savings rate"
   ]
  },
  {
   "cell_type": "code",
   "execution_count": 125,
   "id": "a60ed218-70cd-49e1-ad11-c89abf0ba5a2",
   "metadata": {},
   "outputs": [
    {
     "name": "stdout",
     "output_type": "stream",
     "text": [
      "Martha has  61.1 years to retirement if she earns a 4% return.\n",
      "Martha has  41.0 years to retirement if she earns a 4% return.\n",
      "Martha has  31.9 years to retirement if she earns a 4% return.\n",
      "Martha has  53.3 years to retirement if she earns a 5% return.\n",
      "Martha has  36.7 years to retirement if she earns a 5% return.\n",
      "Martha has  29.0 years to retirement if she earns a 5% return.\n",
      "Martha has  47.6 years to retirement if she earns a 6% return.\n",
      "Martha has  33.4 years to retirement if she earns a 6% return.\n",
      "Martha has  26.7 years to retirement if she earns a 6% return.\n"
     ]
    }
   ],
   "source": [
    "interest_rates = [0.04 , 0.05 , 0.06]\n",
    "savings_rates = [0.1 , 0.25 , 0.4]\n",
    "for in_rate in interest_rates:\n",
    "    for s_rate in savings_rates:\n",
    "        annual_c = salary*s_rate\n",
    "        years_to_retirement = np.nper(in_rate , - annual_c , 0 , desired_cash )\n",
    "        print(f\"Martha has {years_to_retirement: .1f} years to retirement if she earns a {in_rate:.0%} return.\")"
   ]
  },
  {
   "cell_type": "code",
   "execution_count": null,
   "id": "5abbf229-7671-4b9b-97cf-09f4c13a0dcc",
   "metadata": {},
   "outputs": [],
   "source": []
  },
  {
   "cell_type": "code",
   "execution_count": null,
   "id": "833fe6bb-358b-48d8-9c25-a32d412332f4",
   "metadata": {},
   "outputs": [],
   "source": []
  },
  {
   "cell_type": "code",
   "execution_count": null,
   "id": "42365789-c514-4aee-80e9-6377119d9957",
   "metadata": {},
   "outputs": [],
   "source": []
  },
  {
   "cell_type": "code",
   "execution_count": null,
   "id": "11005e4e-7e5d-4495-b924-d0f52e1bb4b0",
   "metadata": {},
   "outputs": [],
   "source": []
  },
  {
   "cell_type": "code",
   "execution_count": null,
   "id": "a4da04fb-5b75-4151-89c3-2a100009f26e",
   "metadata": {},
   "outputs": [],
   "source": []
  },
  {
   "cell_type": "code",
   "execution_count": null,
   "id": "fc25c6c4-04af-4ee6-b9c6-d2fde786d409",
   "metadata": {},
   "outputs": [],
   "source": []
  },
  {
   "cell_type": "code",
   "execution_count": null,
   "id": "6bd317c0-c7eb-4c1d-8a8e-4fa98e84cce3",
   "metadata": {},
   "outputs": [],
   "source": []
  },
  {
   "cell_type": "code",
   "execution_count": null,
   "id": "812ba30e-40e7-4064-86ed-b533d82b7049",
   "metadata": {},
   "outputs": [],
   "source": []
  },
  {
   "cell_type": "code",
   "execution_count": null,
   "id": "e5311ab6-1ddf-40f6-9623-07c292b819e9",
   "metadata": {},
   "outputs": [],
   "source": []
  },
  {
   "cell_type": "code",
   "execution_count": null,
   "id": "0f012949-d0ef-41ec-a884-547e5b5609cb",
   "metadata": {},
   "outputs": [],
   "source": []
  },
  {
   "cell_type": "code",
   "execution_count": null,
   "id": "3cdd4429-05a7-40fd-a8f5-2984cb8eaef8",
   "metadata": {},
   "outputs": [],
   "source": []
  },
  {
   "cell_type": "code",
   "execution_count": null,
   "id": "839b5a45-5522-4a9b-aba7-2b9906c2f9b9",
   "metadata": {},
   "outputs": [],
   "source": []
  },
  {
   "cell_type": "code",
   "execution_count": null,
   "id": "dc903e22-cbc0-4571-95e8-aedcd36b7471",
   "metadata": {},
   "outputs": [],
   "source": []
  },
  {
   "cell_type": "code",
   "execution_count": null,
   "id": "f192bd3d-3eae-4dbc-a61b-e898ac6d0045",
   "metadata": {},
   "outputs": [],
   "source": []
  },
  {
   "cell_type": "code",
   "execution_count": null,
   "id": "38a78206-4c5e-4edc-af95-d7709f294ab1",
   "metadata": {},
   "outputs": [],
   "source": []
  },
  {
   "cell_type": "code",
   "execution_count": null,
   "id": "cc0d77f5-fa20-45d6-8a30-e9657f83f0a7",
   "metadata": {},
   "outputs": [],
   "source": []
  },
  {
   "cell_type": "code",
   "execution_count": null,
   "id": "134f8582-4183-4c6e-97a9-4ca5fe74c745",
   "metadata": {},
   "outputs": [],
   "source": []
  },
  {
   "cell_type": "code",
   "execution_count": null,
   "id": "f73d5032-a060-4668-9a3b-b20972f3d50e",
   "metadata": {},
   "outputs": [],
   "source": []
  },
  {
   "cell_type": "code",
   "execution_count": null,
   "id": "2bcc7970-370a-476a-963f-33087a3fe4f3",
   "metadata": {},
   "outputs": [],
   "source": []
  },
  {
   "cell_type": "code",
   "execution_count": null,
   "id": "ff190649-b8fc-4cb3-a110-6a25c7ed63cc",
   "metadata": {},
   "outputs": [],
   "source": []
  }
 ],
 "metadata": {
  "kernelspec": {
   "display_name": "Python [conda env:base] *",
   "language": "python",
   "name": "conda-base-py"
  },
  "language_info": {
   "codemirror_mode": {
    "name": "ipython",
    "version": 3
   },
   "file_extension": ".py",
   "mimetype": "text/x-python",
   "name": "python",
   "nbconvert_exporter": "python",
   "pygments_lexer": "ipython3",
   "version": "3.12.7"
  }
 },
 "nbformat": 4,
 "nbformat_minor": 5
}
